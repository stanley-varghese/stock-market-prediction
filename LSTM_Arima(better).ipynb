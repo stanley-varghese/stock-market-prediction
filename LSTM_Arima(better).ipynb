{
  "nbformat": 4,
  "nbformat_minor": 0,
  "metadata": {
    "colab": {
      "provenance": [],
      "authorship_tag": "ABX9TyNoi1/WJqndMYLOSEaQ7a10",
      "include_colab_link": true
    },
    "kernelspec": {
      "name": "python3",
      "display_name": "Python 3"
    },
    "language_info": {
      "name": "python"
    }
  },
  "cells": [
    {
      "cell_type": "markdown",
      "metadata": {
        "id": "view-in-github",
        "colab_type": "text"
      },
      "source": [
        "<a href=\"https://colab.research.google.com/github/stanley-varghese/stock-market-prediction/blob/main/LSTM_Arima(better).ipynb\" target=\"_parent\"><img src=\"https://colab.research.google.com/assets/colab-badge.svg\" alt=\"Open In Colab\"/></a>"
      ]
    },
    {
      "cell_type": "code",
      "source": [
        "# Importing the Libraries\n",
        "import pandas as pd\n",
        "import numpy as np\n",
        "%matplotlib inline\n",
        "import matplotlib.pyplot as plt\n",
        "import matplotlib\n",
        "from sklearn.preprocessing import MinMaxScaler\n",
        "from keras.layers import LSTM, Dense, Dropout\n",
        "from sklearn.model_selection import TimeSeriesSplit\n",
        "from sklearn.metrics import mean_squared_error, r2_score\n",
        "import matplotlib.dates as mandates\n",
        "from sklearn.preprocessing import MinMaxScaler\n",
        "from sklearn import linear_model\n",
        "from keras.models import Sequential\n",
        "from keras.layers import Dense\n",
        "import keras.backend as K\n",
        "from keras.callbacks import EarlyStopping\n",
        "from keras.optimizers import Adam\n",
        "from keras.models import load_model\n",
        "from keras.layers import LSTM\n",
        "from keras.utils.vis_utils import plot_model\n",
        "from statsmodels.tsa.arima.model import ARIMA"
      ],
      "metadata": {
        "id": "M9Bo-Gz4EoVs"
      },
      "execution_count": null,
      "outputs": []
    },
    {
      "cell_type": "code",
      "source": [
        "# Get the Dataset\n",
        "df = pd.read_csv(\"MSFT.csv\")\n",
        "df.head()"
      ],
      "metadata": {
        "colab": {
          "base_uri": "https://localhost:8080/",
          "height": 206
        },
        "id": "-24QZ33bEoRq",
        "outputId": "ea8995d9-0d6b-4df5-850c-bfe2bfa32373"
      },
      "execution_count": null,
      "outputs": [
        {
          "output_type": "execute_result",
          "data": {
            "text/plain": [
              "         Date      Open      High       Low     Close  Adj Close      Volume\n",
              "0  1986-03-13  0.088542  0.101563  0.088542  0.097222   0.061434  1031788800\n",
              "1  1986-03-14  0.097222  0.102431  0.097222  0.100694   0.063628   308160000\n",
              "2  1986-03-17  0.100694  0.103299  0.100694  0.102431   0.064725   133171200\n",
              "3  1986-03-18  0.102431  0.103299  0.098958  0.099826   0.063079    67766400\n",
              "4  1986-03-19  0.099826  0.100694  0.097222  0.098090   0.061982    47894400"
            ],
            "text/html": [
              "\n",
              "  <div id=\"df-c5101a7b-50be-4e07-932a-5f10bb05c45b\">\n",
              "    <div class=\"colab-df-container\">\n",
              "      <div>\n",
              "<style scoped>\n",
              "    .dataframe tbody tr th:only-of-type {\n",
              "        vertical-align: middle;\n",
              "    }\n",
              "\n",
              "    .dataframe tbody tr th {\n",
              "        vertical-align: top;\n",
              "    }\n",
              "\n",
              "    .dataframe thead th {\n",
              "        text-align: right;\n",
              "    }\n",
              "</style>\n",
              "<table border=\"1\" class=\"dataframe\">\n",
              "  <thead>\n",
              "    <tr style=\"text-align: right;\">\n",
              "      <th></th>\n",
              "      <th>Date</th>\n",
              "      <th>Open</th>\n",
              "      <th>High</th>\n",
              "      <th>Low</th>\n",
              "      <th>Close</th>\n",
              "      <th>Adj Close</th>\n",
              "      <th>Volume</th>\n",
              "    </tr>\n",
              "  </thead>\n",
              "  <tbody>\n",
              "    <tr>\n",
              "      <th>0</th>\n",
              "      <td>1986-03-13</td>\n",
              "      <td>0.088542</td>\n",
              "      <td>0.101563</td>\n",
              "      <td>0.088542</td>\n",
              "      <td>0.097222</td>\n",
              "      <td>0.061434</td>\n",
              "      <td>1031788800</td>\n",
              "    </tr>\n",
              "    <tr>\n",
              "      <th>1</th>\n",
              "      <td>1986-03-14</td>\n",
              "      <td>0.097222</td>\n",
              "      <td>0.102431</td>\n",
              "      <td>0.097222</td>\n",
              "      <td>0.100694</td>\n",
              "      <td>0.063628</td>\n",
              "      <td>308160000</td>\n",
              "    </tr>\n",
              "    <tr>\n",
              "      <th>2</th>\n",
              "      <td>1986-03-17</td>\n",
              "      <td>0.100694</td>\n",
              "      <td>0.103299</td>\n",
              "      <td>0.100694</td>\n",
              "      <td>0.102431</td>\n",
              "      <td>0.064725</td>\n",
              "      <td>133171200</td>\n",
              "    </tr>\n",
              "    <tr>\n",
              "      <th>3</th>\n",
              "      <td>1986-03-18</td>\n",
              "      <td>0.102431</td>\n",
              "      <td>0.103299</td>\n",
              "      <td>0.098958</td>\n",
              "      <td>0.099826</td>\n",
              "      <td>0.063079</td>\n",
              "      <td>67766400</td>\n",
              "    </tr>\n",
              "    <tr>\n",
              "      <th>4</th>\n",
              "      <td>1986-03-19</td>\n",
              "      <td>0.099826</td>\n",
              "      <td>0.100694</td>\n",
              "      <td>0.097222</td>\n",
              "      <td>0.098090</td>\n",
              "      <td>0.061982</td>\n",
              "      <td>47894400</td>\n",
              "    </tr>\n",
              "  </tbody>\n",
              "</table>\n",
              "</div>\n",
              "      <button class=\"colab-df-convert\" onclick=\"convertToInteractive('df-c5101a7b-50be-4e07-932a-5f10bb05c45b')\"\n",
              "              title=\"Convert this dataframe to an interactive table.\"\n",
              "              style=\"display:none;\">\n",
              "        \n",
              "  <svg xmlns=\"http://www.w3.org/2000/svg\" height=\"24px\"viewBox=\"0 0 24 24\"\n",
              "       width=\"24px\">\n",
              "    <path d=\"M0 0h24v24H0V0z\" fill=\"none\"/>\n",
              "    <path d=\"M18.56 5.44l.94 2.06.94-2.06 2.06-.94-2.06-.94-.94-2.06-.94 2.06-2.06.94zm-11 1L8.5 8.5l.94-2.06 2.06-.94-2.06-.94L8.5 2.5l-.94 2.06-2.06.94zm10 10l.94 2.06.94-2.06 2.06-.94-2.06-.94-.94-2.06-.94 2.06-2.06.94z\"/><path d=\"M17.41 7.96l-1.37-1.37c-.4-.4-.92-.59-1.43-.59-.52 0-1.04.2-1.43.59L10.3 9.45l-7.72 7.72c-.78.78-.78 2.05 0 2.83L4 21.41c.39.39.9.59 1.41.59.51 0 1.02-.2 1.41-.59l7.78-7.78 2.81-2.81c.8-.78.8-2.07 0-2.86zM5.41 20L4 18.59l7.72-7.72 1.47 1.35L5.41 20z\"/>\n",
              "  </svg>\n",
              "      </button>\n",
              "      \n",
              "  <style>\n",
              "    .colab-df-container {\n",
              "      display:flex;\n",
              "      flex-wrap:wrap;\n",
              "      gap: 12px;\n",
              "    }\n",
              "\n",
              "    .colab-df-convert {\n",
              "      background-color: #E8F0FE;\n",
              "      border: none;\n",
              "      border-radius: 50%;\n",
              "      cursor: pointer;\n",
              "      display: none;\n",
              "      fill: #1967D2;\n",
              "      height: 32px;\n",
              "      padding: 0 0 0 0;\n",
              "      width: 32px;\n",
              "    }\n",
              "\n",
              "    .colab-df-convert:hover {\n",
              "      background-color: #E2EBFA;\n",
              "      box-shadow: 0px 1px 2px rgba(60, 64, 67, 0.3), 0px 1px 3px 1px rgba(60, 64, 67, 0.15);\n",
              "      fill: #174EA6;\n",
              "    }\n",
              "\n",
              "    [theme=dark] .colab-df-convert {\n",
              "      background-color: #3B4455;\n",
              "      fill: #D2E3FC;\n",
              "    }\n",
              "\n",
              "    [theme=dark] .colab-df-convert:hover {\n",
              "      background-color: #434B5C;\n",
              "      box-shadow: 0px 1px 3px 1px rgba(0, 0, 0, 0.15);\n",
              "      filter: drop-shadow(0px 1px 2px rgba(0, 0, 0, 0.3));\n",
              "      fill: #FFFFFF;\n",
              "    }\n",
              "  </style>\n",
              "\n",
              "      <script>\n",
              "        const buttonEl =\n",
              "          document.querySelector('#df-c5101a7b-50be-4e07-932a-5f10bb05c45b button.colab-df-convert');\n",
              "        buttonEl.style.display =\n",
              "          google.colab.kernel.accessAllowed ? 'block' : 'none';\n",
              "\n",
              "        async function convertToInteractive(key) {\n",
              "          const element = document.querySelector('#df-c5101a7b-50be-4e07-932a-5f10bb05c45b');\n",
              "          const dataTable =\n",
              "            await google.colab.kernel.invokeFunction('convertToInteractive',\n",
              "                                                     [key], {});\n",
              "          if (!dataTable) return;\n",
              "\n",
              "          const docLinkHtml = 'Like what you see? Visit the ' +\n",
              "            '<a target=\"_blank\" href=https://colab.research.google.com/notebooks/data_table.ipynb>data table notebook</a>'\n",
              "            + ' to learn more about interactive tables.';\n",
              "          element.innerHTML = '';\n",
              "          dataTable['output_type'] = 'display_data';\n",
              "          await google.colab.output.renderOutput(dataTable, element);\n",
              "          const docLink = document.createElement('div');\n",
              "          docLink.innerHTML = docLinkHtml;\n",
              "          element.appendChild(docLink);\n",
              "        }\n",
              "      </script>\n",
              "    </div>\n",
              "  </div>\n",
              "  "
            ]
          },
          "metadata": {},
          "execution_count": 3
        }
      ]
    },
    {
      "cell_type": "code",
      "source": [
        "# Print the shape of Dataframe and Check for Null Values\n",
        "print('Dataframe Shape: ', df.shape)\n",
        "print('Null Value Present: ', df.isnull().values.any())\n"
      ],
      "metadata": {
        "colab": {
          "base_uri": "https://localhost:8080/"
        },
        "id": "eYPtB4CkEoQD",
        "outputId": "00d30851-cf02-4243-b83d-7336083dbdce"
      },
      "execution_count": null,
      "outputs": [
        {
          "output_type": "stream",
          "name": "stdout",
          "text": [
            "Dataframe Shape:  (9083, 7)\n",
            "Null Value Present:  False\n"
          ]
        }
      ]
    },
    {
      "cell_type": "code",
      "source": [
        "# Plot the True Adj Close Value\n",
        "df['Close'].plot(figsize=(16,6))"
      ],
      "metadata": {
        "colab": {
          "base_uri": "https://localhost:8080/",
          "height": 391
        },
        "id": "Ip9vMVGVEoL3",
        "outputId": "2fdc853d-43f0-4f02-d71e-957fda5d8ffc"
      },
      "execution_count": null,
      "outputs": [
        {
          "output_type": "execute_result",
          "data": {
            "text/plain": [
              "<AxesSubplot:>"
            ]
          },
          "metadata": {},
          "execution_count": 5
        },
        {
          "output_type": "display_data",
          "data": {
            "text/plain": [
              "<Figure size 1152x432 with 1 Axes>"
            ],
            "image/png": "[encoded data removed]"
          },
          "metadata": {
            "needs_background": "light"
          }
        }
      ]
    },
    {
      "cell_type": "code",
      "source": [
        "# Set Target Variable\n",
        "output_var = pd.DataFrame(df['Close'])\n",
        "\n",
        "# Selecting the Features\n",
        "features = ['Open', 'High', 'Low', 'Volume']"
      ],
      "metadata": {
        "id": "RyHV1qG3FhJU"
      },
      "execution_count": null,
      "outputs": []
    },
    {
      "cell_type": "code",
      "source": [
        "# Scaling\n",
        "scaler = MinMaxScaler()\n",
        "feature_transform = scaler.fit_transform(df[features])\n",
        "feature_transform = pd.DataFrame(columns=features, data=feature_transform, index=df.index)\n",
        "feature_transform.head()"
      ],
      "metadata": {
        "colab": {
          "base_uri": "https://localhost:8080/",
          "height": 206
        },
        "id": "WiPmBBHdFhFI",
        "outputId": "6675fcd5-9a00-4cac-e58c-69b6b3c50801"
      },
      "execution_count": null,
      "outputs": [
        {
          "output_type": "execute_result",
          "data": {
            "text/plain": [
              "       Open      High       Low    Volume\n",
              "0  0.000000  0.000027  0.000000  1.000000\n",
              "1  0.000025  0.000030  0.000025  0.297096\n",
              "2  0.000035  0.000032  0.000036  0.127119\n",
              "3  0.000040  0.000032  0.000030  0.063588\n",
              "4  0.000033  0.000025  0.000025  0.044285"
            ],
            "text/html": [
              "\n",
              "  <div id=\"df-4b22daba-c6c9-4ab7-a2f7-fd4efc42d7dd\">\n",
              "    <div class=\"colab-df-container\">\n",
              "      <div>\n",
              "<style scoped>\n",
              "    .dataframe tbody tr th:only-of-type {\n",
              "        vertical-align: middle;\n",
              "    }\n",
              "\n",
              "    .dataframe tbody tr th {\n",
              "        vertical-align: top;\n",
              "    }\n",
              "\n",
              "    .dataframe thead th {\n",
              "        text-align: right;\n",
              "    }\n",
              "</style>\n",
              "<table border=\"1\" class=\"dataframe\">\n",
              "  <thead>\n",
              "    <tr style=\"text-align: right;\">\n",
              "      <th></th>\n",
              "      <th>Open</th>\n",
              "      <th>High</th>\n",
              "      <th>Low</th>\n",
              "      <th>Volume</th>\n",
              "    </tr>\n",
              "  </thead>\n",
              "  <tbody>\n",
              "    <tr>\n",
              "      <th>0</th>\n",
              "      <td>0.000000</td>\n",
              "      <td>0.000027</td>\n",
              "      <td>0.000000</td>\n",
              "      <td>1.000000</td>\n",
              "    </tr>\n",
              "    <tr>\n",
              "      <th>1</th>\n",
              "      <td>0.000025</td>\n",
              "      <td>0.000030</td>\n",
              "      <td>0.000025</td>\n",
              "      <td>0.297096</td>\n",
              "    </tr>\n",
              "    <tr>\n",
              "      <th>2</th>\n",
              "      <td>0.000035</td>\n",
              "      <td>0.000032</td>\n",
              "      <td>0.000036</td>\n",
              "      <td>0.127119</td>\n",
              "    </tr>\n",
              "    <tr>\n",
              "      <th>3</th>\n",
              "      <td>0.000040</td>\n",
              "      <td>0.000032</td>\n",
              "      <td>0.000030</td>\n",
              "      <td>0.063588</td>\n",
              "    </tr>\n",
              "    <tr>\n",
              "      <th>4</th>\n",
              "      <td>0.000033</td>\n",
              "      <td>0.000025</td>\n",
              "      <td>0.000025</td>\n",
              "      <td>0.044285</td>\n",
              "    </tr>\n",
              "  </tbody>\n",
              "</table>\n",
              "</div>\n",
              "      <button class=\"colab-df-convert\" onclick=\"convertToInteractive('df-4b22daba-c6c9-4ab7-a2f7-fd4efc42d7dd')\"\n",
              "              title=\"Convert this dataframe to an interactive table.\"\n",
              "              style=\"display:none;\">\n",
              "        \n",
              "  <svg xmlns=\"http://www.w3.org/2000/svg\" height=\"24px\"viewBox=\"0 0 24 24\"\n",
              "       width=\"24px\">\n",
              "    <path d=\"M0 0h24v24H0V0z\" fill=\"none\"/>\n",
              "    <path d=\"M18.56 5.44l.94 2.06.94-2.06 2.06-.94-2.06-.94-.94-2.06-.94 2.06-2.06.94zm-11 1L8.5 8.5l.94-2.06 2.06-.94-2.06-.94L8.5 2.5l-.94 2.06-2.06.94zm10 10l.94 2.06.94-2.06 2.06-.94-2.06-.94-.94-2.06-.94 2.06-2.06.94z\"/><path d=\"M17.41 7.96l-1.37-1.37c-.4-.4-.92-.59-1.43-.59-.52 0-1.04.2-1.43.59L10.3 9.45l-7.72 7.72c-.78.78-.78 2.05 0 2.83L4 21.41c.39.39.9.59 1.41.59.51 0 1.02-.2 1.41-.59l7.78-7.78 2.81-2.81c.8-.78.8-2.07 0-2.86zM5.41 20L4 18.59l7.72-7.72 1.47 1.35L5.41 20z\"/>\n",
              "  </svg>\n",
              "      </button>\n",
              "      \n",
              "  <style>\n",
              "    .colab-df-container {\n",
              "      display:flex;\n",
              "      flex-wrap:wrap;\n",
              "      gap: 12px;\n",
              "    }\n",
              "\n",
              "    .colab-df-convert {\n",
              "      background-color: #E8F0FE;\n",
              "      border: none;\n",
              "      border-radius: 50%;\n",
              "      cursor: pointer;\n",
              "      display: none;\n",
              "      fill: #1967D2;\n",
              "      height: 32px;\n",
              "      padding: 0 0 0 0;\n",
              "      width: 32px;\n",
              "    }\n",
              "\n",
              "    .colab-df-convert:hover {\n",
              "      background-color: #E2EBFA;\n",
              "      box-shadow: 0px 1px 2px rgba(60, 64, 67, 0.3), 0px 1px 3px 1px rgba(60, 64, 67, 0.15);\n",
              "      fill: #174EA6;\n",
              "    }\n",
              "\n",
              "    [theme=dark] .colab-df-convert {\n",
              "      background-color: #3B4455;\n",
              "      fill: #D2E3FC;\n",
              "    }\n",
              "\n",
              "    [theme=dark] .colab-df-convert:hover {\n",
              "      background-color: #434B5C;\n",
              "      box-shadow: 0px 1px 3px 1px rgba(0, 0, 0, 0.15);\n",
              "      filter: drop-shadow(0px 1px 2px rgba(0, 0, 0, 0.3));\n",
              "      fill: #FFFFFF;\n",
              "    }\n",
              "  </style>\n",
              "\n",
              "      <script>\n",
              "        const buttonEl =\n",
              "          document.querySelector('#df-4b22daba-c6c9-4ab7-a2f7-fd4efc42d7dd button.colab-df-convert');\n",
              "        buttonEl.style.display =\n",
              "          google.colab.kernel.accessAllowed ? 'block' : 'none';\n",
              "\n",
              "        async function convertToInteractive(key) {\n",
              "          const element = document.querySelector('#df-4b22daba-c6c9-4ab7-a2f7-fd4efc42d7dd');\n",
              "          const dataTable =\n",
              "            await google.colab.kernel.invokeFunction('convertToInteractive',\n",
              "                                                     [key], {});\n",
              "          if (!dataTable) return;\n",
              "\n",
              "          const docLinkHtml = 'Like what you see? Visit the ' +\n",
              "            '<a target=\"_blank\" href=https://colab.research.google.com/notebooks/data_table.ipynb>data table notebook</a>'\n",
              "            + ' to learn more about interactive tables.';\n",
              "          element.innerHTML = '';\n",
              "          dataTable['output_type'] = 'display_data';\n",
              "          await google.colab.output.renderOutput(dataTable, element);\n",
              "          const docLink = document.createElement('div');\n",
              "          docLink.innerHTML = docLinkHtml;\n",
              "          element.appendChild(docLink);\n",
              "        }\n",
              "      </script>\n",
              "    </div>\n",
              "  </div>\n",
              "  "
            ]
          },
          "metadata": {},
          "execution_count": 7
        }
      ]
    },
    {
      "cell_type": "code",
      "source": [
        "# Splitting to Training set and Test set\n",
        "timesplit = TimeSeriesSplit(n_splits=10)\n",
        "for train_index, test_index in timesplit.split(feature_transform):\n",
        "    X_train, X_test = feature_transform[:len(train_index)], feature_transform[len(train_index): (len(train_index)+len(test_index))]\n",
        "    y_train, y_test = output_var[:len(train_index)].values.ravel(), output_var[len(train_index): (len(train_index)+len(test_index))].values.ravel()\n"
      ],
      "metadata": {
        "id": "kkphQCi6FhDU"
      },
      "execution_count": null,
      "outputs": []
    },
    {
      "cell_type": "code",
      "source": [
        "# Process the data for LSTM\n",
        "trainX = np.array(X_train)\n",
        "testX = np.array(X_test)\n",
        "X_train = trainX.reshape(X_train.shape[0], 1, X_train.shape[1])\n",
        "X_test = testX.reshape(X_test.shape[0], 1, X_test.shape[1])\n"
      ],
      "metadata": {
        "id": "JcCZ_biWFzmI"
      },
      "execution_count": null,
      "outputs": []
    },
    {
      "cell_type": "code",
      "source": [
        "# Building the LSTM Model\n",
        "lstm = Sequential()\n",
        "lstm.add(LSTM(32, input_shape=(1, trainX.shape[1]), activation='relu', return_sequences=False))\n",
        "lstm.add(Dense(1))\n",
        "lstm.compile(loss='mean_squared_error', optimizer='adam')\n",
        "plot_model(lstm, show_shapes=True, show_layer_names=True)\n"
      ],
      "metadata": {
        "colab": {
          "base_uri": "https://localhost:8080/",
          "height": 312
        },
        "id": "MDQ0Dk4PFzjO",
        "outputId": "9a41f06e-e8d1-486c-b886-6d2dd026d45a"
      },
      "execution_count": null,
      "outputs": [
        {
          "output_type": "execute_result",
          "data": {
            "image/png": "[encoded data removed]",
            "text/plain": [
              "<IPython.core.display.Image object>"
            ]
          },
          "metadata": {},
          "execution_count": 10
        }
      ]
    },
    {
      "cell_type": "code",
      "source": [
        "# Model Training\n",
        "history = lstm.fit(X_train, y_train, epochs=100, batch_size=8, verbose=1, shuffle=False)\n"
      ],
      "metadata": {
        "colab": {
          "base_uri": "https://localhost:8080/"
        },
        "id": "aOCYOmqGFzfq",
        "outputId": "ed6439e9-1264-4f9a-cf0a-00e40e183952"
      },
      "execution_count": null,
      "outputs": [
        {
          "output_type": "stream",
          "name": "stdout",
          "text": [
            "Epoch 1/100\n",
            "1033/1033 [==============================] - 5s 3ms/step - loss: 269.7955\n",
            "Epoch 2/100\n",
            "1033/1033 [==============================] - 3s 3ms/step - loss: 215.3881\n",
            "Epoch 3/100\n",
            "1033/1033 [==============================] - 3s 3ms/step - loss: 192.6607\n",
            "Epoch 4/100\n",
            "1033/1033 [==============================] - 3s 3ms/step - loss: 125.4859\n",
            "Epoch 5/100\n",
            "1033/1033 [==============================] - 3s 3ms/step - loss: 69.6044\n",
            "Epoch 6/100\n",
            "1033/1033 [==============================] - 4s 3ms/step - loss: 29.4359\n",
            "Epoch 7/100\n",
            "1033/1033 [==============================] - 3s 3ms/step - loss: 8.7835\n",
            "Epoch 8/100\n",
            "1033/1033 [==============================] - 3s 3ms/step - loss: 2.2356\n",
            "Epoch 9/100\n",
            "1033/1033 [==============================] - 3s 3ms/step - loss: 0.8395\n",
            "Epoch 10/100\n",
            "1033/1033 [==============================] - 3s 3ms/step - loss: 0.4679\n",
            "Epoch 11/100\n",
            "1033/1033 [==============================] - 4s 4ms/step - loss: 0.3085\n",
            "Epoch 12/100\n",
            "1033/1033 [==============================] - 4s 4ms/step - loss: 0.2389\n",
            "Epoch 13/100\n",
            "1033/1033 [==============================] - 3s 3ms/step - loss: 0.2154\n",
            "Epoch 14/100\n",
            "1033/1033 [==============================] - 3s 3ms/step - loss: 0.2110\n",
            "Epoch 15/100\n",
            "1033/1033 [==============================] - 3s 3ms/step - loss: 0.2144\n",
            "Epoch 16/100\n",
            "1033/1033 [==============================] - 3s 3ms/step - loss: 0.2188\n",
            "Epoch 17/100\n",
            "1033/1033 [==============================] - 3s 3ms/step - loss: 0.2209\n",
            "Epoch 18/100\n",
            "1033/1033 [==============================] - 3s 3ms/step - loss: 0.2207\n",
            "Epoch 19/100\n",
            "1033/1033 [==============================] - 3s 3ms/step - loss: 0.2191\n",
            "Epoch 20/100\n",
            "1033/1033 [==============================] - 3s 3ms/step - loss: 0.2169\n",
            "Epoch 21/100\n",
            "1033/1033 [==============================] - 3s 3ms/step - loss: 0.2144\n",
            "Epoch 22/100\n",
            "1033/1033 [==============================] - 3s 3ms/step - loss: 0.2118\n",
            "Epoch 23/100\n",
            "1033/1033 [==============================] - 3s 3ms/step - loss: 0.2093\n",
            "Epoch 24/100\n",
            "1033/1033 [==============================] - 3s 3ms/step - loss: 0.2069\n",
            "Epoch 25/100\n",
            "1033/1033 [==============================] - 3s 3ms/step - loss: 0.2046\n",
            "Epoch 26/100\n",
            "1033/1033 [==============================] - 3s 3ms/step - loss: 0.2024\n",
            "Epoch 27/100\n",
            "1033/1033 [==============================] - 3s 3ms/step - loss: 0.2003\n",
            "Epoch 28/100\n",
            "1033/1033 [==============================] - 3s 3ms/step - loss: 0.1983\n",
            "Epoch 29/100\n",
            "1033/1033 [==============================] - 3s 3ms/step - loss: 0.1964\n",
            "Epoch 30/100\n",
            "1033/1033 [==============================] - 4s 3ms/step - loss: 0.1946\n",
            "Epoch 31/100\n",
            "1033/1033 [==============================] - 3s 3ms/step - loss: 0.1929\n",
            "Epoch 32/100\n",
            "1033/1033 [==============================] - 3s 3ms/step - loss: 0.1912\n",
            "Epoch 33/100\n",
            "1033/1033 [==============================] - 3s 3ms/step - loss: 0.1896\n",
            "Epoch 34/100\n",
            "1033/1033 [==============================] - 3s 3ms/step - loss: 0.1881\n",
            "Epoch 35/100\n",
            "1033/1033 [==============================] - 4s 3ms/step - loss: 0.1867\n",
            "Epoch 36/100\n",
            "1033/1033 [==============================] - 3s 3ms/step - loss: 0.1853\n",
            "Epoch 37/100\n",
            "1033/1033 [==============================] - 3s 3ms/step - loss: 0.1840\n",
            "Epoch 38/100\n",
            "1033/1033 [==============================] - 3s 3ms/step - loss: 0.1828\n",
            "Epoch 39/100\n",
            "1033/1033 [==============================] - 3s 3ms/step - loss: 0.1815\n",
            "Epoch 40/100\n",
            "1033/1033 [==============================] - 4s 3ms/step - loss: 0.1804\n",
            "Epoch 41/100\n",
            "1033/1033 [==============================] - 3s 3ms/step - loss: 0.1793\n",
            "Epoch 42/100\n",
            "1033/1033 [==============================] - 3s 3ms/step - loss: 0.1782\n",
            "Epoch 43/100\n",
            "1033/1033 [==============================] - 3s 3ms/step - loss: 0.1772\n",
            "Epoch 44/100\n",
            "1033/1033 [==============================] - 3s 3ms/step - loss: 0.1763\n",
            "Epoch 45/100\n",
            "1033/1033 [==============================] - 4s 3ms/step - loss: 0.1754\n",
            "Epoch 46/100\n",
            "1033/1033 [==============================] - 3s 3ms/step - loss: 0.1745\n",
            "Epoch 47/100\n",
            "1033/1033 [==============================] - 3s 2ms/step - loss: 0.1736\n",
            "Epoch 48/100\n",
            "1033/1033 [==============================] - 3s 3ms/step - loss: 0.1728\n",
            "Epoch 49/100\n",
            "1033/1033 [==============================] - 3s 2ms/step - loss: 0.1720\n",
            "Epoch 50/100\n",
            "1033/1033 [==============================] - 4s 3ms/step - loss: 0.1713\n",
            "Epoch 51/100\n",
            "1033/1033 [==============================] - 3s 3ms/step - loss: 0.1706\n",
            "Epoch 52/100\n",
            "1033/1033 [==============================] - 3s 2ms/step - loss: 0.1699\n",
            "Epoch 53/100\n",
            "1033/1033 [==============================] - 3s 2ms/step - loss: 0.1693\n",
            "Epoch 54/100\n",
            "1033/1033 [==============================] - 3s 3ms/step - loss: 0.1686\n",
            "Epoch 55/100\n",
            "1033/1033 [==============================] - 4s 3ms/step - loss: 0.1680\n",
            "Epoch 56/100\n",
            "1033/1033 [==============================] - 3s 3ms/step - loss: 0.1674\n",
            "Epoch 57/100\n",
            "1033/1033 [==============================] - 3s 2ms/step - loss: 0.1669\n",
            "Epoch 58/100\n",
            "1033/1033 [==============================] - 3s 3ms/step - loss: 0.1664\n",
            "Epoch 59/100\n",
            "1033/1033 [==============================] - 3s 2ms/step - loss: 0.1658\n",
            "Epoch 60/100\n",
            "1033/1033 [==============================] - 3s 3ms/step - loss: 0.1653\n",
            "Epoch 61/100\n",
            "1033/1033 [==============================] - 3s 3ms/step - loss: 0.1649\n",
            "Epoch 62/100\n",
            "1033/1033 [==============================] - 3s 2ms/step - loss: 0.1644\n",
            "Epoch 63/100\n",
            "1033/1033 [==============================] - 3s 2ms/step - loss: 0.1640\n",
            "Epoch 64/100\n",
            "1033/1033 [==============================] - 3s 3ms/step - loss: 0.1635\n",
            "Epoch 65/100\n",
            "1033/1033 [==============================] - 4s 4ms/step - loss: 0.1631\n",
            "Epoch 66/100\n",
            "1033/1033 [==============================] - 3s 3ms/step - loss: 0.1627\n",
            "Epoch 67/100\n",
            "1033/1033 [==============================] - 3s 2ms/step - loss: 0.1624\n",
            "Epoch 68/100\n",
            "1033/1033 [==============================] - 2s 2ms/step - loss: 0.1620\n",
            "Epoch 69/100\n",
            "1033/1033 [==============================] - 3s 3ms/step - loss: 0.1617\n",
            "Epoch 70/100\n",
            "1033/1033 [==============================] - 3s 3ms/step - loss: 0.1613\n",
            "Epoch 71/100\n",
            "1033/1033 [==============================] - 3s 3ms/step - loss: 0.1610\n",
            "Epoch 72/100\n",
            "1033/1033 [==============================] - 3s 3ms/step - loss: 0.1607\n",
            "Epoch 73/100\n",
            "1033/1033 [==============================] - 3s 2ms/step - loss: 0.1604\n",
            "Epoch 74/100\n",
            "1033/1033 [==============================] - 3s 3ms/step - loss: 0.1601\n",
            "Epoch 75/100\n",
            "1033/1033 [==============================] - 3s 3ms/step - loss: 0.1598\n",
            "Epoch 76/100\n",
            "1033/1033 [==============================] - 3s 3ms/step - loss: 0.1595\n",
            "Epoch 77/100\n",
            "1033/1033 [==============================] - 3s 2ms/step - loss: 0.1592\n",
            "Epoch 78/100\n",
            "1033/1033 [==============================] - 3s 2ms/step - loss: 0.1590\n",
            "Epoch 79/100\n",
            "1033/1033 [==============================] - 3s 2ms/step - loss: 0.1587\n",
            "Epoch 80/100\n",
            "1033/1033 [==============================] - 3s 3ms/step - loss: 0.1585\n",
            "Epoch 81/100\n",
            "1033/1033 [==============================] - 3s 3ms/step - loss: 0.1582\n",
            "Epoch 82/100\n",
            "1033/1033 [==============================] - 3s 2ms/step - loss: 0.1580\n",
            "Epoch 83/100\n",
            "1033/1033 [==============================] - 3s 2ms/step - loss: 0.1577\n",
            "Epoch 84/100\n",
            "1033/1033 [==============================] - 3s 2ms/step - loss: 0.1575\n",
            "Epoch 85/100\n",
            "1033/1033 [==============================] - 3s 3ms/step - loss: 0.1573\n",
            "Epoch 86/100\n",
            "1033/1033 [==============================] - 3s 3ms/step - loss: 0.1571\n",
            "Epoch 87/100\n",
            "1033/1033 [==============================] - 3s 2ms/step - loss: 0.1569\n",
            "Epoch 88/100\n",
            "1033/1033 [==============================] - 3s 2ms/step - loss: 0.1567\n",
            "Epoch 89/100\n",
            "1033/1033 [==============================] - 2s 2ms/step - loss: 0.1564\n",
            "Epoch 90/100\n",
            "1033/1033 [==============================] - 3s 3ms/step - loss: 0.1562\n",
            "Epoch 91/100\n",
            "1033/1033 [==============================] - 3s 3ms/step - loss: 0.1560\n",
            "Epoch 92/100\n",
            "1033/1033 [==============================] - 2s 2ms/step - loss: 0.1559\n",
            "Epoch 93/100\n",
            "1033/1033 [==============================] - 3s 2ms/step - loss: 0.1557\n",
            "Epoch 94/100\n",
            "1033/1033 [==============================] - 3s 3ms/step - loss: 0.1555\n",
            "Epoch 95/100\n",
            "1033/1033 [==============================] - 3s 3ms/step - loss: 0.1553\n",
            "Epoch 96/100\n",
            "1033/1033 [==============================] - 3s 3ms/step - loss: 0.1551\n",
            "Epoch 97/100\n",
            "1033/1033 [==============================] - 3s 3ms/step - loss: 0.1549\n",
            "Epoch 98/100\n",
            "1033/1033 [==============================] - 3s 2ms/step - loss: 0.1547\n",
            "Epoch 99/100\n",
            "1033/1033 [==============================] - 3s 3ms/step - loss: 0.1545\n",
            "Epoch 100/100\n",
            "1033/1033 [==============================] - 3s 3ms/step - loss: 0.1544\n"
          ]
        }
      ]
    },
    {
      "cell_type": "code",
      "source": [
        "# LSTM Prediction\n",
        "y_pred = lstm.predict(X_test)\n"
      ],
      "metadata": {
        "colab": {
          "base_uri": "https://localhost:8080/"
        },
        "id": "2JsJ-PWzF-vr",
        "outputId": "739dae6e-7a41-4611-956f-b0ccc7cb178a"
      },
      "execution_count": null,
      "outputs": [
        {
          "output_type": "stream",
          "name": "stdout",
          "text": [
            "26/26 [==============================] - 0s 3ms/step\n"
          ]
        }
      ]
    },
    {
      "cell_type": "code",
      "source": [
        "# Predicted vs True Adj Close Value – LSTM\n",
        "plt.plot(y_test, label='True Value')\n",
        "plt.plot(y_pred, label='LSTM Value')\n",
        "plt.title('Prediction by LSTM')\n",
        "plt.xlabel('Time Scale')\n",
        "plt.ylabel('Scaled USD')\n",
        "plt.legend()\n",
        "plt.show()"
      ],
      "metadata": {
        "colab": {
          "base_uri": "https://localhost:8080/",
          "height": 295
        },
        "id": "14sJXqIUF-ry",
        "outputId": "f27ba09e-ccf7-4323-9486-f8c54489a0c5"
      },
      "execution_count": null,
      "outputs": [
        {
          "output_type": "display_data",
          "data": {
            "text/plain": [
              "<Figure size 432x288 with 1 Axes>"
            ],
            "image/png": "[encoded data removed]"
          },
          "metadata": {
            "needs_background": "light"
          }
        }
      ]
    },
    {
      "cell_type": "code",
      "source": [],
      "metadata": {
        "id": "9c6JCbv0HpZt"
      },
      "execution_count": null,
      "outputs": []
    }
  ]
}